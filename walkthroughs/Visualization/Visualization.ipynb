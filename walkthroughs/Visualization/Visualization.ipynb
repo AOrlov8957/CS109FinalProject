{
 "cells": [
  {
   "cell_type": "markdown",
   "metadata": {},
   "source": [
    "# Plotting Review"
   ]
  },
  {
   "cell_type": "markdown",
   "metadata": {},
   "source": [
    "*A review of the major visualization methods used, their attributes, and their pros and cons.*"
   ]
  },
  {
   "cell_type": "markdown",
   "metadata": {},
   "source": [
    "1. Datasets\n",
    "    * Text - Hamlet\n",
    "2. Histogram\n",
    "    * Text - `plt.bar()`, `plt.barh()`"
   ]
  },
  {
   "cell_type": "code",
   "execution_count": 99,
   "metadata": {
    "collapsed": true
   },
   "outputs": [],
   "source": [
    "# We matplotlib to draw things on the notebook, instead of on a separate window.\n",
    "%matplotlib inline \n",
    "\n",
    "import numpy as np # numpy = fast numerical programming library\n",
    "import scipy as sp # scipy = stats functions, amongst other things\n",
    "import matplotlib as mpl # matplotlib\n",
    "import matplotlib.cm as cm # cm = colormaps\n",
    "import matplotlib.pyplot as plt # plt = pyplot, easy command line functions for plotting\n",
    "import pandas as pd\n",
    "\n",
    "# http://pandas.pydata.org/pandas-docs/stable/generated/pandas.set_option.html\n",
    "pd.set_option('display.width', 500)\n",
    "pd.set_option('display.max_columns', 100)\n",
    "pd.set_option('display.notebook_repr_html', True)\n",
    "# display.colheader_justify = justify dataframe columns\n",
    "# display.precision = floating point precision of output\n",
    "\n",
    "# seaborn = matplotlib, adds more plots and makes shit pretty\n",
    "import seaborn as sns"
   ]
  },
  {
   "cell_type": "markdown",
   "metadata": {},
   "source": [
    "## 1.1 Datasets"
   ]
  },
  {
   "cell_type": "markdown",
   "metadata": {},
   "source": [
    "### The text of Hamlet"
   ]
  },
  {
   "cell_type": "code",
   "execution_count": 60,
   "metadata": {
    "collapsed": false
   },
   "outputs": [
    {
     "name": "stdout",
     "output_type": "stream",
     "text": [
      "Hamlet has 31659 words.\n"
     ]
    }
   ],
   "source": [
    "# Lab1\n",
    "with open(\"hamlet.txt\") as hamletfile:\n",
    "    hamlettext=hamletfile.read()\n",
    "    hamlettokens = [s.strip('.').strip(';').lower() for s in hamlettext.split()] # quick cleaning\n",
    "    print \"Hamlet has %d words.\" % len(hamlettokens)"
   ]
  },
  {
   "cell_type": "code",
   "execution_count": 61,
   "metadata": {
    "collapsed": false
   },
   "outputs": [
    {
     "name": "stdout",
     "output_type": "stream",
     "text": [
      "﻿XXXX\r\n",
      "HAMLET, PRINCE OF DENMARK\r\n",
      "\r\n",
      "by William S\n"
     ]
    }
   ],
   "source": [
    "print hamlettext[:50]"
   ]
  },
  {
   "cell_type": "code",
   "execution_count": 62,
   "metadata": {
    "collapsed": false
   },
   "outputs": [
    {
     "data": {
      "text/plain": [
       "['\\xef\\xbb\\xbfxxxx',\n",
       " 'hamlet,',\n",
       " 'prince',\n",
       " 'of',\n",
       " 'denmark',\n",
       " 'by',\n",
       " 'william',\n",
       " 'shakespeare',\n",
       " 'persons',\n",
       " 'represented']"
      ]
     },
     "execution_count": 62,
     "metadata": {},
     "output_type": "execute_result"
    }
   ],
   "source": [
    "hamlettokens[:10]"
   ]
  },
  {
   "cell_type": "markdown",
   "metadata": {},
   "source": [
    "# 2. Basic visualizations"
   ]
  },
  {
   "cell_type": "markdown",
   "metadata": {},
   "source": [
    "## 2.1 Histogram"
   ]
  },
  {
   "cell_type": "markdown",
   "metadata": {},
   "source": [
    "Plot the frequency of the top `k` most common words in Hamlet."
   ]
  },
  {
   "cell_type": "code",
   "execution_count": 110,
   "metadata": {
    "collapsed": false
   },
   "outputs": [
    {
     "data": {
      "text/plain": [
       "[('the', 1136),\n",
       " ('and', 943),\n",
       " ('to', 723),\n",
       " ('of', 668),\n",
       " ('a', 527),\n",
       " ('i', 520),\n",
       " ('my', 512),\n",
       " ('you', 443),\n",
       " ('in', 428),\n",
       " ('ham', 358),\n",
       " ('it', 353),\n",
       " ('that', 344),\n",
       " ('is', 326),\n",
       " ('his', 296),\n",
       " ('not', 282),\n",
       " ('with', 265),\n",
       " ('this', 257),\n",
       " ('your', 241),\n",
       " ('for', 239),\n",
       " ('but', 228)]"
      ]
     },
     "execution_count": 110,
     "metadata": {},
     "output_type": "execute_result"
    }
   ],
   "source": [
    "# Use the Counter to count word frequency\n",
    "from collections import Counter\n",
    "import random\n",
    "\n",
    "# Top k words\n",
    "k = 20\n",
    "\n",
    "# Gather top k words\n",
    "ham_counter = Counter(random.sample(hamlettokens, len(hamlettokens)))\n",
    "ham_popular_words = sorted(dict(ham_counter), key = ham_counter.get, reverse = True)[:k]\n",
    "ham_popular_counts = [ham_counter[x] for x in ham_popular_words]\n",
    "zip(ham_popular_words, ham_popular_counts)"
   ]
  },
  {
   "cell_type": "code",
   "execution_count": 109,
   "metadata": {
    "collapsed": false
   },
   "outputs": [
    {
     "data": {
      "image/png": "[encoded data removed]",
      "text/plain": [
       "<matplotlib.figure.Figure at 0x11e082950>"
      ]
     },
     "metadata": {},
     "output_type": "display_data"
    }
   ],
   "source": [
    "# Plot histogram using matplotlib bar()\n",
    "indexes = np.arange(len(ham_popular_words))\n",
    "plt.barh(indexes, ham_popular_counts) # barh is a horizontal bar plot\n",
    "plt.yticks(indexes + 0.5, ham_popular_words)\n",
    "plt.show()"
   ]
  },
  {
   "cell_type": "code",
   "execution_count": null,
   "metadata": {
    "collapsed": true
   },
   "outputs": [],
   "source": []
  }
 ],
 "metadata": {
  "kernelspec": {
   "display_name": "Python 2",
   "language": "python",
   "name": "python2"
  },
  "language_info": {
   "codemirror_mode": {
    "name": "ipython",
    "version": 2
   },
   "file_extension": ".py",
   "mimetype": "text/x-python",
   "name": "python",
   "nbconvert_exporter": "python",
   "pygments_lexer": "ipython2",
   "version": "2.7.10"
  }
 },
 "nbformat": 4,
 "nbformat_minor": 0
}
